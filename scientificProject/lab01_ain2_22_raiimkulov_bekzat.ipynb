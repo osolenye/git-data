{
 "cells": [
  {
   "metadata": {},
   "cell_type": "markdown",
   "source": "",
   "id": "faec75caf227af7c"
  },
  {
   "metadata": {
    "ExecuteTime": {
     "end_time": "2024-09-26T10:45:32.848656Z",
     "start_time": "2024-09-26T10:45:32.626450Z"
    }
   },
   "cell_type": "code",
   "source": [
    "from math import degrees\n",
    "\n",
    "from win32pdhutil import counter_english_map\n",
    "\n",
    "print('Hello')"
   ],
   "id": "3183a85bdf29c895",
   "outputs": [
    {
     "name": "stdout",
     "output_type": "stream",
     "text": [
      "Hello\n"
     ]
    }
   ],
   "execution_count": 2
  },
  {
   "metadata": {
    "ExecuteTime": {
     "end_time": "2024-09-26T10:45:42.570893Z",
     "start_time": "2024-09-26T10:45:42.561315Z"
    }
   },
   "cell_type": "code",
   "source": [
    "i=2\n",
    "print(i)"
   ],
   "id": "6117cb2badfdc1af",
   "outputs": [
    {
     "name": "stdout",
     "output_type": "stream",
     "text": [
      "2\n"
     ]
    }
   ],
   "execution_count": 3
  },
  {
   "metadata": {},
   "cell_type": "markdown",
   "source": [
    "a=8\n",
    "t=type(a)\n",
    "print(t)"
   ],
   "id": "871ca81250bd2f38"
  },
  {
   "metadata": {},
   "cell_type": "code",
   "source": [
    "i=4\n",
    "type(i)"
   ],
   "id": "346ca0d46cad1296",
   "outputs": [],
   "execution_count": null
  },
  {
   "metadata": {},
   "cell_type": "code",
   "source": [
    "f=4.1\n",
    "type(f)"
   ],
   "id": "18627ea4a21d12bf",
   "outputs": [],
   "execution_count": null
  },
  {
   "metadata": {},
   "cell_type": "code",
   "source": [
    "b=True\n",
    "type(b)"
   ],
   "id": "910660345e904e30",
   "outputs": [],
   "execution_count": null
  },
  {
   "metadata": {},
   "cell_type": "code",
   "source": [
    "s=\"This is a string\"\n",
    "print(s)"
   ],
   "id": "54dee282f7764875",
   "outputs": [],
   "execution_count": null
  },
  {
   "metadata": {},
   "cell_type": "code",
   "source": [
    "l=[3,1,2]\n",
    "print(l)"
   ],
   "id": "267731f8a310b55e",
   "outputs": [],
   "execution_count": null
  },
  {
   "metadata": {},
   "cell_type": "code",
   "source": [
    "d={'foo':1,'bar':2.3, 's':'my first dictionary'}\n",
    "print(d)    \n",
    "print(d['foo'])"
   ],
   "id": "5c47b3f16b47bdf9",
   "outputs": [],
   "execution_count": null
  },
  {
   "metadata": {},
   "cell_type": "code",
   "source": [
    "n=None\n",
    "type(n)"
   ],
   "id": "d1e99907a1328c2b",
   "outputs": [],
   "execution_count": null
  },
  {
   "metadata": {},
   "cell_type": "code",
   "source": [
    "import math\n",
    "p = math.pow(10,2)\n",
    "print(\"Возведение числа 10 в квадрат\", p)"
   ],
   "id": "31eb610352c10628",
   "outputs": [],
   "execution_count": null
  },
  {
   "metadata": {},
   "cell_type": "code",
   "source": [
    "i=7\n",
    "n=False\n",
    "print('Our first value is %s.Our second value is %s.'%(n,i))"
   ],
   "id": "dbc19b40831b57ff",
   "outputs": [],
   "execution_count": null
  },
  {
   "metadata": {},
   "cell_type": "code",
   "source": [
    "# три примера с использованием math\n",
    "import math\n",
    "p= math.sqrt(25)\n",
    "print(p)\n",
    "\n",
    "l=math.cos(math.radians(60))\n",
    "print(l)\n",
    "\n",
    "b=math.sin(math.radians(30))\n",
    "print(b)"
   ],
   "id": "cca6f14d9ea48f3d",
   "outputs": [],
   "execution_count": null
  },
  {
   "metadata": {},
   "cell_type": "code",
   "source": [
    "i = 4\n",
    "f = 4.1\n",
    "\n",
    "if i==1 and f<4:\n",
    "    print(\"The value of i is 1 and f is greater than 4\")\n",
    "elif i>4 or f>4:\n",
    "    print(\"i or f are both greater than 4\")\n",
    "else:\n",
    "    print(\"both i and f are less than or equal to 4\")"
   ],
   "id": "cfeb4a117b68d529",
   "outputs": [],
   "execution_count": null
  },
  {
   "metadata": {},
   "cell_type": "code",
   "source": [
    "l=[3,1,2]\n",
    "print(l)\n",
    "\n",
    "for e in l:\n",
    "    print(e)"
   ],
   "id": "149832873d44fef8",
   "outputs": [],
   "execution_count": null
  },
  {
   "metadata": {},
   "cell_type": "code",
   "source": [
    "for n in range(10):\n",
    "    print(\"Это числа от 1 до 10\",n)"
   ],
   "id": "368b5aeb9da4728f",
   "outputs": [],
   "execution_count": null
  },
  {
   "metadata": {},
   "cell_type": "code",
   "source": [
    "counter=6\n",
    "while counter<10:\n",
    "    print(counter)\n",
    "    counter+=1"
   ],
   "id": "1b6b231ffcebcb96",
   "outputs": [],
   "execution_count": null
  },
  {
   "metadata": {},
   "cell_type": "code",
   "source": [
    "def add2(x):\n",
    "    y = x+2\n",
    "    return y\n",
    "i=5\n",
    "add2(i)\n"
   ],
   "id": "4b2fb0c9d903d86d",
   "outputs": [],
   "execution_count": null
  },
  {
   "metadata": {},
   "cell_type": "code",
   "source": [
    "square = lambda x: x*x\n",
    "square(5)"
   ],
   "id": "2190fe7529527b02",
   "outputs": [],
   "execution_count": null
  },
  {
   "metadata": {},
   "cell_type": "code",
   "source": [
    "x = lambda a, b:a*b\n",
    "x(5,6)"
   ],
   "id": "da3fba4753358c61",
   "outputs": [],
   "execution_count": null
  },
  {
   "metadata": {},
   "cell_type": "code",
   "source": [
    "x = lambda a,b,c:a+b+c\n",
    "x(5,6,2)"
   ],
   "id": "1be46b9e7c954c5c",
   "outputs": [],
   "execution_count": null
  },
  {
   "metadata": {},
   "cell_type": "markdown",
   "source": [
    "<h1>Heading 1</h1>\n",
    "<h2>Heading 2</h2>\n",
    "<h3>Heading 3</h3>\n",
    "<h4>Heading 4</h4>\n",
    "<h5>Heading 5</h5>\n",
    "<h6>Heading 6</h6>\n"
   ],
   "id": "fb1ee1cac420345c"
  },
  {
   "metadata": {},
   "cell_type": "code",
   "outputs": [],
   "execution_count": null,
   "source": "",
   "id": "79b392acb2118e12"
  },
  {
   "metadata": {},
   "cell_type": "code",
   "source": "",
   "id": "8af5734b2da97b4f",
   "outputs": [],
   "execution_count": null
  },
  {
   "metadata": {},
   "cell_type": "markdown",
   "source": "<img src='https://img.freepik.com/free-photo/abstract-autumn-beauty-in-multi-colored-leaf-vein-pattern-generated-by-ai_188544-9871.jpg' width='250'>",
   "id": "ba3b9ed80dc6ef84"
  },
  {
   "metadata": {},
   "cell_type": "markdown",
   "source": [
    "\\begin{equation*}\n",
    "\\left(sum_{k=1}^n a_k b_k\\right)^2\n",
    "\\end{equation*}"
   ],
   "id": "5971a1bbdfa8c3f5"
  },
  {
   "metadata": {},
   "cell_type": "markdown",
   "source": [
    "\\begin{equation*}\n",
    "(E=mc^2)\n",
    "\\end{equation*}"
   ],
   "id": "9180cefd802ec219"
  },
  {
   "metadata": {},
   "cell_type": "markdown",
   "source": "",
   "id": "cfefe7edb9da5b9b"
  },
  {
   "metadata": {},
   "cell_type": "code",
   "outputs": [],
   "execution_count": null,
   "source": "",
   "id": "6f46c6d3a5382de6"
  },
  {
   "metadata": {
    "ExecuteTime": {
     "end_time": "2024-09-16T14:36:21.311581Z",
     "start_time": "2024-09-16T14:36:21.197868Z"
    }
   },
   "cell_type": "code",
   "source": "! ipconfig",
   "id": "92cab273a1ec9206",
   "outputs": [
    {
     "name": "stdout",
     "output_type": "stream",
     "text": [
      "\n",
      "Ќ бва®©Є  Їа®в®Є®«  IP ¤«п Windows\n",
      "\n",
      "\n",
      "Ђ¤ ЇвҐа Ethernet Ethernet:\n",
      "\n",
      "   ‘®бв®п­ЁҐ баҐ¤л. . . . . . . . : ‘аҐ¤  ЇҐаҐ¤ зЁ ­Ґ¤®бвгЇ­ .\n",
      "   DNS-бгддЁЄб Ї®¤Є«озҐ­Ёп . . . . . : \n",
      "\n",
      "Ђ¤ ЇвҐа Ethernet vEthernet (WSL (Hyper-V firewall)):\n",
      "\n",
      "   DNS-бгддЁЄб Ї®¤Є«озҐ­Ёп . . . . . : \n",
      "   ‹®Є «м­л© IPv6- ¤аҐб Є ­ «  . . . : fe80::fe6f:3dd4:cb4f:3cb4%46\n",
      "   IPv4- ¤аҐб. . . . . . . . . . . . : 172.19.192.1\n",
      "   Њ бЄ  Ї®¤бҐвЁ . . . . . . . . . . : 255.255.240.0\n",
      "   Ћб­®ў­®© и«о§. . . . . . . . . : \n",
      "\n",
      "Ђ¤ ЇвҐа ЎҐбЇа®ў®¤­®© «®Є «м­®© бҐвЁ Џ®¤Є«озҐ­ЁҐ Ї® «®Є «м­®© бҐвЁ* 1:\n",
      "\n",
      "   ‘®бв®п­ЁҐ баҐ¤л. . . . . . . . : ‘аҐ¤  ЇҐаҐ¤ зЁ ­Ґ¤®бвгЇ­ .\n",
      "   DNS-бгддЁЄб Ї®¤Є«озҐ­Ёп . . . . . : \n",
      "\n",
      "Ђ¤ ЇвҐа ЎҐбЇа®ў®¤­®© «®Є «м­®© бҐвЁ Џ®¤Є«озҐ­ЁҐ Ї® «®Є «м­®© бҐвЁ* 10:\n",
      "\n",
      "   ‘®бв®п­ЁҐ баҐ¤л. . . . . . . . : ‘аҐ¤  ЇҐаҐ¤ зЁ ­Ґ¤®бвгЇ­ .\n",
      "   DNS-бгддЁЄб Ї®¤Є«озҐ­Ёп . . . . . : \n",
      "\n",
      "Ђ¤ ЇвҐа ЎҐбЇа®ў®¤­®© «®Є «м­®© бҐвЁ ЃҐбЇа®ў®¤­ п бҐвм:\n",
      "\n",
      "   DNS-бгддЁЄб Ї®¤Є«озҐ­Ёп . . . . . : \n",
      "   ‹®Є «м­л© IPv6- ¤аҐб Є ­ «  . . . : fe80::b011:80c0:235c:5d65%10\n",
      "   IPv4- ¤аҐб. . . . . . . . . . . . : 192.168.0.102\n",
      "   Њ бЄ  Ї®¤бҐвЁ . . . . . . . . . . : 255.255.255.0\n",
      "   Ћб­®ў­®© и«о§. . . . . . . . . : 192.168.0.1\n",
      "\n",
      "Ђ¤ ЇвҐа Ethernet ‘ҐвҐў®Ґ Ї®¤Є«озҐ­ЁҐ Bluetooth:\n",
      "\n",
      "   ‘®бв®п­ЁҐ баҐ¤л. . . . . . . . : ‘аҐ¤  ЇҐаҐ¤ зЁ ­Ґ¤®бвгЇ­ .\n",
      "   DNS-бгддЁЄб Ї®¤Є«озҐ­Ёп . . . . . : \n"
     ]
    }
   ],
   "execution_count": 7
  },
  {
   "metadata": {},
   "cell_type": "code",
   "source": "! ping google.com",
   "id": "fa5aa72ee62c5493",
   "outputs": [],
   "execution_count": null
  },
  {
   "metadata": {},
   "cell_type": "code",
   "source": [
    "# 4.Напишите функцию, которая производит вычисление по формуле:\n",
    "# f=(9πt+10 cos⁡〖(x〗))/(√t-sin⁡〖(x)〗 ) e^(-2t)\n",
    "\n",
    "def f(x,t):\n",
    "    up = 9*math.pi*t + 10*math.cos(x)*math.e**(-2*t)\n",
    "    down = math.sqrt(t)-math.sin(x)\n",
    "    return up/down\n",
    "f(1,10)"
   ],
   "id": "65eaf786c74cbef8",
   "outputs": [],
   "execution_count": null
  },
  {
   "metadata": {},
   "cell_type": "code",
   "source": [
    "# 5.\tНапишите функцию, которая из трех чисел находит все принадлежащие интервалу от a до b (границы интервала задать произвольно).\n",
    "\n",
    "def f(k,l,m):\n",
    "    a=10\n",
    "    b=15\n",
    "    result = []\n",
    "    if k>=a and k<=b:\n",
    "        result.append(k)\n",
    "    if l>=a and l<=b:\n",
    "        result.append(l)\n",
    "    if m>=a and m<=b:\n",
    "        result.append(m)\n",
    "    return result\n",
    "f(10,6,8)\n"
   ],
   "id": "143ab34cefa6e3de",
   "outputs": [],
   "execution_count": null
  },
  {
   "metadata": {},
   "cell_type": "code",
   "source": [
    "#6.\tСоздайте генератор 20-ти случайных чисел в диапазоне от 0 до 10.\n",
    "\n",
    "import random\n",
    "\n",
    "\n",
    "def randomNumbers():\n",
    "    a=0\n",
    "    b=10\n",
    "    for i in range(20):\n",
    "        print(random.randint(a, b+1))\n",
    "randomNumbers()"
   ],
   "id": "dc3e10bf89a354dd",
   "outputs": [],
   "execution_count": null
  },
  {
   "metadata": {},
   "cell_type": "code",
   "source": [
    "#\tВычислите сумму 20 элементов последовательности: \n",
    "#   1/(2+3),2/(3+4),3/(4+5)…\n",
    "\n",
    "def sumIteration():\n",
    "    a=1\n",
    "    b=2\n",
    "    c=3\n",
    "    result=0\n",
    "    for i in range(20):\n",
    "        result+=a/(b+c)\n",
    "        a+=1\n",
    "        b+=1\n",
    "        c+=1\n",
    "    return result\n",
    "sumIteration()"
   ],
   "id": "d0c83869c3f57c96",
   "outputs": [],
   "execution_count": null
  },
  {
   "metadata": {
    "ExecuteTime": {
     "end_time": "2024-09-17T16:46:10.538236Z",
     "start_time": "2024-09-17T16:46:10.522240Z"
    }
   },
   "cell_type": "code",
   "source": [
    "<h1>1. Почему для работы с большими данными и машинным обучением выбирают Python? Перечислите не менее трех причин.</h1>\n",
    "    <ol>\n",
    "        <li>Упрощённый синтаксис.</li>\n",
    "        <li>Широкий набор библиотек для работы с массивами данных (например, numpy позволяет создавать ИИ без дополнительных фреймворков).</li>\n",
    "        <li>Большое количество уже готовых библиотек и фреймворков для обработки данных (такие как TensorFlow, PyTorch, Tinygrad).</li>\n",
    "    </ol>\n",
    "\n",
    "    <h1>2. В чем особенности Jupyter Notebook, почему его выбирают специалисты по Data Science?</h1>\n",
    "    <p>Jupyter Notebook позволяет использовать разметку и запускать отдельные блоки кода независимо друг от друга.</p>\n",
    "\n",
    "    <h1>3. Перечислите основные библиотеки Python для машинного обучения.</h1>\n",
    "    <p>TensorFlow, PyTorch, TinyAI.</p>\n",
    "\n",
    "    <h1>4. Какие типы данных Python вам известны?</h1>\n",
    "    <p>int, float, str, list, tuple, set, dict.</p>\n",
    "\n",
    "    <h1>5. Назовите основные языковые конструкции Python.</h1>\n",
    "    <p>Циклы, условные операторы, функции, классы.</p>\n",
    "\n",
    "    <h1>6. Каково назначение оператора if…else?</h1>\n",
    "    <p>Для проверки выполнения условия. Если условие истинно, выполняется определённый блок кода, иначе — другой.</p>\n",
    "\n",
    "    <h1>7. Когда заканчивается выполнение оператора while?</h1>\n",
    "    <p>Цикл продолжается, пока условие истинно. Условие проверяется перед каждой новой итерацией.</p>\n",
    "\n",
    "    <h1>8. Какие способы задания функций существуют в Python?</h1>\n",
    "    <p>Анонимные функции (лямбда-функции) и стандартное объявление функций с помощью <code>def</code>.</p>\n",
    "\n",
    "    <h1>9. Что такое лямбда-функция?</h1>\n",
    "    <p>Это анонимная функция, которая не имеет имени.</p>\n",
    "\n",
    "    <h1>10. Какая библиотека Python используется для выполнения основных математических функций?</h1>\n",
    "    <p>math.</p>\n",
    "\n",
    "    <h1>11. Назовите дополнительные возможности использования среды Jupyter Notebook.</h1>\n",
    "    <p>Поддержка различных языков программирования и работа с большими объемами данных.</p>"
   ],
   "id": "1b3df5a3a447691b",
   "outputs": [
    {
     "ename": "SyntaxError",
     "evalue": "invalid character '…' (U+2026) (75683165.py, line 20)",
     "output_type": "error",
     "traceback": [
      "\u001B[1;36m  Cell \u001B[1;32mIn[2], line 20\u001B[1;36m\u001B[0m\n\u001B[1;33m    <h1>6. Каково назначение оператора if…else?</h1>\u001B[0m\n\u001B[1;37m                                         ^\u001B[0m\n\u001B[1;31mSyntaxError\u001B[0m\u001B[1;31m:\u001B[0m invalid character '…' (U+2026)\n"
     ]
    }
   ],
   "execution_count": 2
  },
  {
   "metadata": {},
   "cell_type": "markdown",
   "source": "",
   "id": "d38a63b7b2632002"
  },
  {
   "metadata": {
    "ExecuteTime": {
     "end_time": "2024-09-17T16:45:41.376205Z",
     "start_time": "2024-09-17T16:45:41.368116Z"
    }
   },
   "cell_type": "code",
   "source": "",
   "id": "a36c2648f7e62537",
   "outputs": [],
   "execution_count": null
  },
  {
   "metadata": {
    "ExecuteTime": {
     "end_time": "2024-09-17T16:45:49.849393Z",
     "start_time": "2024-09-17T16:45:49.843957Z"
    }
   },
   "cell_type": "code",
   "source": "",
   "id": "2edfbde3b5a2b55b",
   "outputs": [],
   "execution_count": null
  },
  {
   "metadata": {},
   "cell_type": "markdown",
   "source": "",
   "id": "98f019602d95afb2"
  },
  {
   "metadata": {},
   "cell_type": "markdown",
   "source": "",
   "id": "7f3d6bee919178d9"
  }
 ],
 "metadata": {
  "kernelspec": {
   "display_name": "Python 3",
   "language": "python",
   "name": "python3"
  },
  "language_info": {
   "codemirror_mode": {
    "name": "ipython",
    "version": 2
   },
   "file_extension": ".py",
   "mimetype": "text/x-python",
   "name": "python",
   "nbconvert_exporter": "python",
   "pygments_lexer": "ipython2",
   "version": "2.7.6"
  }
 },
 "nbformat": 4,
 "nbformat_minor": 5
}
