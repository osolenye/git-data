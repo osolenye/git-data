{
 "cells": [
  {
   "cell_type": "code",
   "id": "initial_id",
   "metadata": {
    "collapsed": true,
    "ExecuteTime": {
     "end_time": "2024-09-25T17:31:02.041517Z",
     "start_time": "2024-09-25T17:31:02.037235Z"
    }
   },
   "source": "import numpy as np",
   "outputs": [],
   "execution_count": 78
  },
  {
   "metadata": {
    "ExecuteTime": {
     "end_time": "2024-09-25T17:31:02.092713Z",
     "start_time": "2024-09-25T17:31:02.086652Z"
    }
   },
   "cell_type": "code",
   "source": [
    "# 1. Подключите библиотеку numpy и создайте одномерный массив, в котором по порядку все числа до 100, кратные 5\n",
    "my_array=np.arange(5,101,5)\n",
    "my_array"
   ],
   "id": "e9ee7361339c263b",
   "outputs": [
    {
     "data": {
      "text/plain": [
       "array([  5,  10,  15,  20,  25,  30,  35,  40,  45,  50,  55,  60,  65,\n",
       "        70,  75,  80,  85,  90,  95, 100])"
      ]
     },
     "execution_count": 79,
     "metadata": {},
     "output_type": "execute_result"
    }
   ],
   "execution_count": 79
  },
  {
   "metadata": {
    "ExecuteTime": {
     "end_time": "2024-09-25T17:31:02.196716Z",
     "start_time": "2024-09-25T17:31:02.190226Z"
    }
   },
   "cell_type": "code",
   "source": [
    "# 2. Из полученного массива получить массив с кратными 10 числами\n",
    "filtered_array = my_array[my_array % 10 == 0]\n",
    "filtered_array"
   ],
   "id": "7e5c38011cf9f9ed",
   "outputs": [
    {
     "data": {
      "text/plain": [
       "array([ 10,  20,  30,  40,  50,  60,  70,  80,  90, 100])"
      ]
     },
     "execution_count": 80,
     "metadata": {},
     "output_type": "execute_result"
    }
   ],
   "execution_count": 80
  },
  {
   "metadata": {
    "ExecuteTime": {
     "end_time": "2024-09-25T17:31:02.363364Z",
     "start_time": "2024-09-25T17:31:02.354754Z"
    }
   },
   "cell_type": "code",
   "source": [
    "# 3. Получить двумерный массив с двумя столбцами\n",
    "reshaped_array = filtered_array.reshape(5,2)\n",
    "reshaped_array"
   ],
   "id": "9355985f7118e7c2",
   "outputs": [
    {
     "data": {
      "text/plain": [
       "array([[ 10,  20],\n",
       "       [ 30,  40],\n",
       "       [ 50,  60],\n",
       "       [ 70,  80],\n",
       "       [ 90, 100]])"
      ]
     },
     "execution_count": 81,
     "metadata": {},
     "output_type": "execute_result"
    }
   ],
   "execution_count": 81
  },
  {
   "metadata": {},
   "cell_type": "markdown",
   "source": "",
   "id": "65fb1a769c18c344"
  },
  {
   "metadata": {
    "ExecuteTime": {
     "end_time": "2024-09-25T17:31:02.425424Z",
     "start_time": "2024-09-25T17:31:02.415840Z"
    }
   },
   "cell_type": "code",
   "source": [
    "# 4. Получить набор, в котором все элементы меньше предыдущего на 5\n",
    "my_second_array = reshaped_array-5\n",
    "my_second_array"
   ],
   "id": "724a05765c75f8c2",
   "outputs": [
    {
     "data": {
      "text/plain": [
       "array([[ 5, 15],\n",
       "       [25, 35],\n",
       "       [45, 55],\n",
       "       [65, 75],\n",
       "       [85, 95]])"
      ]
     },
     "execution_count": 82,
     "metadata": {},
     "output_type": "execute_result"
    }
   ],
   "execution_count": 82
  },
  {
   "metadata": {
    "ExecuteTime": {
     "end_time": "2024-09-25T17:31:02.554596Z",
     "start_time": "2024-09-25T17:31:02.547806Z"
    }
   },
   "cell_type": "code",
   "source": [
    "# 5. Соедините массивы, полученные в п. 3.1 и 4.1, горизонтально (транспонирование используется для корректного соединения)\n",
    "combined_array = np.hstack((reshaped_array,my_second_array))\n",
    "combined_array"
   ],
   "id": "77b7a319a99ac329",
   "outputs": [
    {
     "data": {
      "text/plain": [
       "array([[ 10,  20,   5,  15],\n",
       "       [ 30,  40,  25,  35],\n",
       "       [ 50,  60,  45,  55],\n",
       "       [ 70,  80,  65,  75],\n",
       "       [ 90, 100,  85,  95]])"
      ]
     },
     "execution_count": 83,
     "metadata": {},
     "output_type": "execute_result"
    }
   ],
   "execution_count": 83
  },
  {
   "metadata": {
    "ExecuteTime": {
     "end_time": "2024-09-25T17:31:02.709217Z",
     "start_time": "2024-09-25T17:31:02.702596Z"
    }
   },
   "cell_type": "code",
   "source": [
    "#6.1.Разделите 2 и 3 строку на 4 верхних строки my_array. Используйте .T для транспонирования матрицы\n",
    "rows_2_and_3 = combined_array[2:4]\n",
    "print(rows_2_and_3)\n",
    "\n",
    "first_four_rows = my_array[:rows_2_and_3.size].reshape(rows_2_and_3.shape)\n",
    "print(first_four_rows)\n",
    "\n",
    "division_result = rows_2_and_3.T / first_four_rows.T\n",
    "division_result\n",
    "print(my_array)\n"
   ],
   "id": "3b6b1596222e21b",
   "outputs": [
    {
     "name": "stdout",
     "output_type": "stream",
     "text": [
      "[[50 60 45 55]\n",
      " [70 80 65 75]]\n",
      "[[ 5 10 15 20]\n",
      " [25 30 35 40]]\n",
      "[  5  10  15  20  25  30  35  40  45  50  55  60  65  70  75  80  85  90\n",
      "  95 100]\n"
     ]
    }
   ],
   "execution_count": 84
  },
  {
   "metadata": {
    "ExecuteTime": {
     "end_time": "2024-09-25T17:31:02.863669Z",
     "start_time": "2024-09-25T17:31:02.859159Z"
    }
   },
   "cell_type": "code",
   "source": [
    "#7.1.\tОставить только те значения, которые не изменились после деления\n",
    "for i in range(len(rows_2_and_3.T)):   \n",
    "    if np.array_equal(rows_2_and_3.T[i], division_result[i]):\n",
    "        print(f\"Строка {i} совпадает: {rows_2_and_3.T[i]}\")\n",
    "    else:\n",
    "        print(f\"Строки не совпадают\")\n"
   ],
   "id": "e793a87cef702d3b",
   "outputs": [
    {
     "name": "stdout",
     "output_type": "stream",
     "text": [
      "Строки не совпадают\n",
      "Строки не совпадают\n",
      "Строки не совпадают\n",
      "Строки не совпадают\n"
     ]
    }
   ],
   "execution_count": 85
  },
  {
   "metadata": {
    "ExecuteTime": {
     "end_time": "2024-09-25T17:31:02.966938Z",
     "start_time": "2024-09-25T17:31:02.960611Z"
    }
   },
   "cell_type": "code",
   "source": [
    "#8.1.\tСнова получить трехстрочный двумерный массив и поменять местами первую и третью строки\n",
    "my_array_third = my_array.reshape(5,4)[0:3][::-1]\n",
    "my_array_third"
   ],
   "id": "a38ce3268f2e3a24",
   "outputs": [
    {
     "data": {
      "text/plain": [
       "array([[45, 50, 55, 60],\n",
       "       [25, 30, 35, 40],\n",
       "       [ 5, 10, 15, 20]])"
      ]
     },
     "execution_count": 86,
     "metadata": {},
     "output_type": "execute_result"
    }
   ],
   "execution_count": 86
  },
  {
   "metadata": {
    "ExecuteTime": {
     "end_time": "2024-09-25T17:31:03.060636Z",
     "start_time": "2024-09-25T17:31:03.052476Z"
    }
   },
   "cell_type": "code",
   "source": [
    "#9.1. Получить среднее, медиану и стандартное отклонение для каждой строки, используя команды np.mean(), np.median(), np.std().\n",
    "\n",
    "print(f\"Среднее значение массива: \", np.mean(my_array_third[0]))\n",
    "print(f\"Медиана массива: \", np.median(my_array_third[0]))\n",
    "print(f\"Стандартное отклонение: \", np.std(my_array_third[0]))\n",
    "\n",
    "print(f\"Среднее значение массива: \", np.mean(my_array_third[1]))\n",
    "print(f\"Медиана массива: \", np.median(my_array_third[1]))\n",
    "print(f\"Стандартное отклонение: \", np.std(my_array_third[1]))\n",
    "\n",
    "print(f\"Среднее значение массива: \", np.mean(my_array_third[2]))\n",
    "print(f\"Медиана массива: \", np.median(my_array_third[2]))\n",
    "print(f\"Стандартное отклонение: \", np.std(my_array_third[2]))\n",
    "\n"
   ],
   "id": "8aa047ac8ec81c48",
   "outputs": [
    {
     "name": "stdout",
     "output_type": "stream",
     "text": [
      "Среднее значение массива:  52.5\n",
      "Медиана массива:  52.5\n",
      "Стандартное отклонение:  5.5901699437494745\n",
      "Среднее значение массива:  32.5\n",
      "Медиана массива:  32.5\n",
      "Стандартное отклонение:  5.5901699437494745\n",
      "Среднее значение массива:  12.5\n",
      "Медиана массива:  12.5\n",
      "Стандартное отклонение:  5.5901699437494745\n"
     ]
    }
   ],
   "execution_count": 87
  },
  {
   "metadata": {
    "ExecuteTime": {
     "end_time": "2024-09-25T17:31:57.007997Z",
     "start_time": "2024-09-25T17:31:57.000388Z"
    }
   },
   "cell_type": "code",
   "source": [
    "#10.1.\tСделать нормализацию на максимальное значение вдоль строк, поделив каждый элемент массива на max() вдоль строк.\n",
    "\n",
    "my_array_third = my_array_third.astype(np.float32)\n",
    "for i in range(len(my_array_third)):\n",
    "     max_value = my_array_third[i].max()\n",
    "     for j in range(len(my_array_third[i])):\n",
    "        my_array_third[i][j] = my_array_third[i][j]/max_value\n",
    "my_array_third "
   ],
   "id": "c846cd28ae8ba54e",
   "outputs": [
    {
     "data": {
      "text/plain": [
       "array([[0.75     , 0.8333333, 0.9166667, 1.       ],\n",
       "       [0.625    , 0.75     , 0.875    , 1.       ],\n",
       "       [0.25     , 0.5      , 0.75     , 1.       ]], dtype=float32)"
      ]
     },
     "execution_count": 90,
     "metadata": {},
     "output_type": "execute_result"
    }
   ],
   "execution_count": 90
  },
  {
   "metadata": {},
   "cell_type": "markdown",
   "source": "<h1>2.Использование команд библиотеки pandas</h1>",
   "id": "e72f41aefb1a40cb"
  },
  {
   "metadata": {},
   "cell_type": "markdown",
   "source": "2.1.\tИмпортируйте данные из файла “Global Population Trends(2016-2022).csv”. Описание данных смотрите ниже.",
   "id": "1d14c460dde8fe8f"
  },
  {
   "metadata": {
    "ExecuteTime": {
     "end_time": "2024-09-25T17:45:30.177401Z",
     "start_time": "2024-09-25T17:45:30.156970Z"
    }
   },
   "cell_type": "code",
   "source": [
    "import pandas as pd\n",
    "df = pd.read_csv('Global Population Trends(2016-2022).csv')\n",
    "df"
   ],
   "id": "5f1399dfa0234498",
   "outputs": [
    {
     "data": {
      "text/plain": [
       "          Country  Year Total Population Urban Population Rural Population  \\\n",
       "0     Afghanistan  2017                -                -                -   \n",
       "1     Afghanistan  2018       36,686,784        9,353,296       27,333,488   \n",
       "2     Afghanistan  2019       37,769,499        9,727,157       28,042,342   \n",
       "3     Afghanistan  2020       38,972,230       10,142,913       28,829,317   \n",
       "4     Afghanistan  2021       40,099,462       10,551,772       29,547,690   \n",
       "...           ...   ...              ...              ...              ...   \n",
       "1068     Zimbabwe  2017                -                -                -   \n",
       "1069     Zimbabwe  2018       15,052,184        4,848,158       10,204,026   \n",
       "1070     Zimbabwe  2019       15,354,608        4,945,719       10,408,889   \n",
       "1071     Zimbabwe  2020       15,669,666        5,052,214       10,617,452   \n",
       "1072     Zimbabwe  2021       15,993,524        5,166,388       10,827,136   \n",
       "\n",
       "     Population Density Life Expectancy  Birth Rate  Death Rate  \\\n",
       "0                    55              63      37.342       7.027   \n",
       "1                    56              63      36.927       6.981   \n",
       "2                    58              64      36.466       6.791   \n",
       "3                    60              63      36.051       7.113   \n",
       "4                     -              62      35.842       7.344   \n",
       "...                 ...             ...         ...         ...   \n",
       "1068                 38              61      32.516       8.266   \n",
       "1069                 39              61      32.074       7.972   \n",
       "1070                 40              61      31.518       8.043   \n",
       "1071                 41              61      31.009       8.132   \n",
       "1072                  -              59      30.537       9.057   \n",
       "\n",
       "     Fertility Rate Infant Mortality Rate Growth Rate  \n",
       "0             5.129                  49.4           -  \n",
       "1             5.002                  47.8           3  \n",
       "2              4.87                  46.3           3  \n",
       "3              4.75                  44.8           3  \n",
       "4             4.643                  43.4           3  \n",
       "...             ...                   ...         ...  \n",
       "1068          3.706                  39.5           -  \n",
       "1069          3.659                    38           2  \n",
       "1070          3.599                  37.1           2  \n",
       "1071          3.545                  36.6           2  \n",
       "1072          3.491                  35.7           2  \n",
       "\n",
       "[1073 rows x 12 columns]"
      ],
      "text/html": [
       "<div>\n",
       "<style scoped>\n",
       "    .dataframe tbody tr th:only-of-type {\n",
       "        vertical-align: middle;\n",
       "    }\n",
       "\n",
       "    .dataframe tbody tr th {\n",
       "        vertical-align: top;\n",
       "    }\n",
       "\n",
       "    .dataframe thead th {\n",
       "        text-align: right;\n",
       "    }\n",
       "</style>\n",
       "<table border=\"1\" class=\"dataframe\">\n",
       "  <thead>\n",
       "    <tr style=\"text-align: right;\">\n",
       "      <th></th>\n",
       "      <th>Country</th>\n",
       "      <th>Year</th>\n",
       "      <th>Total Population</th>\n",
       "      <th>Urban Population</th>\n",
       "      <th>Rural Population</th>\n",
       "      <th>Population Density</th>\n",
       "      <th>Life Expectancy</th>\n",
       "      <th>Birth Rate</th>\n",
       "      <th>Death Rate</th>\n",
       "      <th>Fertility Rate</th>\n",
       "      <th>Infant Mortality Rate</th>\n",
       "      <th>Growth Rate</th>\n",
       "    </tr>\n",
       "  </thead>\n",
       "  <tbody>\n",
       "    <tr>\n",
       "      <th>0</th>\n",
       "      <td>Afghanistan</td>\n",
       "      <td>2017</td>\n",
       "      <td>-</td>\n",
       "      <td>-</td>\n",
       "      <td>-</td>\n",
       "      <td>55</td>\n",
       "      <td>63</td>\n",
       "      <td>37.342</td>\n",
       "      <td>7.027</td>\n",
       "      <td>5.129</td>\n",
       "      <td>49.4</td>\n",
       "      <td>-</td>\n",
       "    </tr>\n",
       "    <tr>\n",
       "      <th>1</th>\n",
       "      <td>Afghanistan</td>\n",
       "      <td>2018</td>\n",
       "      <td>36,686,784</td>\n",
       "      <td>9,353,296</td>\n",
       "      <td>27,333,488</td>\n",
       "      <td>56</td>\n",
       "      <td>63</td>\n",
       "      <td>36.927</td>\n",
       "      <td>6.981</td>\n",
       "      <td>5.002</td>\n",
       "      <td>47.8</td>\n",
       "      <td>3</td>\n",
       "    </tr>\n",
       "    <tr>\n",
       "      <th>2</th>\n",
       "      <td>Afghanistan</td>\n",
       "      <td>2019</td>\n",
       "      <td>37,769,499</td>\n",
       "      <td>9,727,157</td>\n",
       "      <td>28,042,342</td>\n",
       "      <td>58</td>\n",
       "      <td>64</td>\n",
       "      <td>36.466</td>\n",
       "      <td>6.791</td>\n",
       "      <td>4.87</td>\n",
       "      <td>46.3</td>\n",
       "      <td>3</td>\n",
       "    </tr>\n",
       "    <tr>\n",
       "      <th>3</th>\n",
       "      <td>Afghanistan</td>\n",
       "      <td>2020</td>\n",
       "      <td>38,972,230</td>\n",
       "      <td>10,142,913</td>\n",
       "      <td>28,829,317</td>\n",
       "      <td>60</td>\n",
       "      <td>63</td>\n",
       "      <td>36.051</td>\n",
       "      <td>7.113</td>\n",
       "      <td>4.75</td>\n",
       "      <td>44.8</td>\n",
       "      <td>3</td>\n",
       "    </tr>\n",
       "    <tr>\n",
       "      <th>4</th>\n",
       "      <td>Afghanistan</td>\n",
       "      <td>2021</td>\n",
       "      <td>40,099,462</td>\n",
       "      <td>10,551,772</td>\n",
       "      <td>29,547,690</td>\n",
       "      <td>-</td>\n",
       "      <td>62</td>\n",
       "      <td>35.842</td>\n",
       "      <td>7.344</td>\n",
       "      <td>4.643</td>\n",
       "      <td>43.4</td>\n",
       "      <td>3</td>\n",
       "    </tr>\n",
       "    <tr>\n",
       "      <th>...</th>\n",
       "      <td>...</td>\n",
       "      <td>...</td>\n",
       "      <td>...</td>\n",
       "      <td>...</td>\n",
       "      <td>...</td>\n",
       "      <td>...</td>\n",
       "      <td>...</td>\n",
       "      <td>...</td>\n",
       "      <td>...</td>\n",
       "      <td>...</td>\n",
       "      <td>...</td>\n",
       "      <td>...</td>\n",
       "    </tr>\n",
       "    <tr>\n",
       "      <th>1068</th>\n",
       "      <td>Zimbabwe</td>\n",
       "      <td>2017</td>\n",
       "      <td>-</td>\n",
       "      <td>-</td>\n",
       "      <td>-</td>\n",
       "      <td>38</td>\n",
       "      <td>61</td>\n",
       "      <td>32.516</td>\n",
       "      <td>8.266</td>\n",
       "      <td>3.706</td>\n",
       "      <td>39.5</td>\n",
       "      <td>-</td>\n",
       "    </tr>\n",
       "    <tr>\n",
       "      <th>1069</th>\n",
       "      <td>Zimbabwe</td>\n",
       "      <td>2018</td>\n",
       "      <td>15,052,184</td>\n",
       "      <td>4,848,158</td>\n",
       "      <td>10,204,026</td>\n",
       "      <td>39</td>\n",
       "      <td>61</td>\n",
       "      <td>32.074</td>\n",
       "      <td>7.972</td>\n",
       "      <td>3.659</td>\n",
       "      <td>38</td>\n",
       "      <td>2</td>\n",
       "    </tr>\n",
       "    <tr>\n",
       "      <th>1070</th>\n",
       "      <td>Zimbabwe</td>\n",
       "      <td>2019</td>\n",
       "      <td>15,354,608</td>\n",
       "      <td>4,945,719</td>\n",
       "      <td>10,408,889</td>\n",
       "      <td>40</td>\n",
       "      <td>61</td>\n",
       "      <td>31.518</td>\n",
       "      <td>8.043</td>\n",
       "      <td>3.599</td>\n",
       "      <td>37.1</td>\n",
       "      <td>2</td>\n",
       "    </tr>\n",
       "    <tr>\n",
       "      <th>1071</th>\n",
       "      <td>Zimbabwe</td>\n",
       "      <td>2020</td>\n",
       "      <td>15,669,666</td>\n",
       "      <td>5,052,214</td>\n",
       "      <td>10,617,452</td>\n",
       "      <td>41</td>\n",
       "      <td>61</td>\n",
       "      <td>31.009</td>\n",
       "      <td>8.132</td>\n",
       "      <td>3.545</td>\n",
       "      <td>36.6</td>\n",
       "      <td>2</td>\n",
       "    </tr>\n",
       "    <tr>\n",
       "      <th>1072</th>\n",
       "      <td>Zimbabwe</td>\n",
       "      <td>2021</td>\n",
       "      <td>15,993,524</td>\n",
       "      <td>5,166,388</td>\n",
       "      <td>10,827,136</td>\n",
       "      <td>-</td>\n",
       "      <td>59</td>\n",
       "      <td>30.537</td>\n",
       "      <td>9.057</td>\n",
       "      <td>3.491</td>\n",
       "      <td>35.7</td>\n",
       "      <td>2</td>\n",
       "    </tr>\n",
       "  </tbody>\n",
       "</table>\n",
       "<p>1073 rows × 12 columns</p>\n",
       "</div>"
      ]
     },
     "execution_count": 93,
     "metadata": {},
     "output_type": "execute_result"
    }
   ],
   "execution_count": 93
  },
  {
   "metadata": {
    "ExecuteTime": {
     "end_time": "2024-09-25T17:46:25.453299Z",
     "start_time": "2024-09-25T17:46:25.443625Z"
    }
   },
   "cell_type": "code",
   "source": [
    "#2.2. Считайте несколько первых записей таблицы (head())\n",
    "df.head()"
   ],
   "id": "b24f3004e7a067f3",
   "outputs": [
    {
     "data": {
      "text/plain": [
       "       Country  Year Total Population Urban Population Rural Population  \\\n",
       "0  Afghanistan  2017                -                -                -   \n",
       "1  Afghanistan  2018       36,686,784        9,353,296       27,333,488   \n",
       "2  Afghanistan  2019       37,769,499        9,727,157       28,042,342   \n",
       "3  Afghanistan  2020       38,972,230       10,142,913       28,829,317   \n",
       "4  Afghanistan  2021       40,099,462       10,551,772       29,547,690   \n",
       "\n",
       "  Population Density Life Expectancy  Birth Rate  Death Rate Fertility Rate  \\\n",
       "0                 55              63      37.342       7.027          5.129   \n",
       "1                 56              63      36.927       6.981          5.002   \n",
       "2                 58              64      36.466       6.791           4.87   \n",
       "3                 60              63      36.051       7.113           4.75   \n",
       "4                  -              62      35.842       7.344          4.643   \n",
       "\n",
       "  Infant Mortality Rate Growth Rate  \n",
       "0                  49.4           -  \n",
       "1                  47.8           3  \n",
       "2                  46.3           3  \n",
       "3                  44.8           3  \n",
       "4                  43.4           3  "
      ],
      "text/html": [
       "<div>\n",
       "<style scoped>\n",
       "    .dataframe tbody tr th:only-of-type {\n",
       "        vertical-align: middle;\n",
       "    }\n",
       "\n",
       "    .dataframe tbody tr th {\n",
       "        vertical-align: top;\n",
       "    }\n",
       "\n",
       "    .dataframe thead th {\n",
       "        text-align: right;\n",
       "    }\n",
       "</style>\n",
       "<table border=\"1\" class=\"dataframe\">\n",
       "  <thead>\n",
       "    <tr style=\"text-align: right;\">\n",
       "      <th></th>\n",
       "      <th>Country</th>\n",
       "      <th>Year</th>\n",
       "      <th>Total Population</th>\n",
       "      <th>Urban Population</th>\n",
       "      <th>Rural Population</th>\n",
       "      <th>Population Density</th>\n",
       "      <th>Life Expectancy</th>\n",
       "      <th>Birth Rate</th>\n",
       "      <th>Death Rate</th>\n",
       "      <th>Fertility Rate</th>\n",
       "      <th>Infant Mortality Rate</th>\n",
       "      <th>Growth Rate</th>\n",
       "    </tr>\n",
       "  </thead>\n",
       "  <tbody>\n",
       "    <tr>\n",
       "      <th>0</th>\n",
       "      <td>Afghanistan</td>\n",
       "      <td>2017</td>\n",
       "      <td>-</td>\n",
       "      <td>-</td>\n",
       "      <td>-</td>\n",
       "      <td>55</td>\n",
       "      <td>63</td>\n",
       "      <td>37.342</td>\n",
       "      <td>7.027</td>\n",
       "      <td>5.129</td>\n",
       "      <td>49.4</td>\n",
       "      <td>-</td>\n",
       "    </tr>\n",
       "    <tr>\n",
       "      <th>1</th>\n",
       "      <td>Afghanistan</td>\n",
       "      <td>2018</td>\n",
       "      <td>36,686,784</td>\n",
       "      <td>9,353,296</td>\n",
       "      <td>27,333,488</td>\n",
       "      <td>56</td>\n",
       "      <td>63</td>\n",
       "      <td>36.927</td>\n",
       "      <td>6.981</td>\n",
       "      <td>5.002</td>\n",
       "      <td>47.8</td>\n",
       "      <td>3</td>\n",
       "    </tr>\n",
       "    <tr>\n",
       "      <th>2</th>\n",
       "      <td>Afghanistan</td>\n",
       "      <td>2019</td>\n",
       "      <td>37,769,499</td>\n",
       "      <td>9,727,157</td>\n",
       "      <td>28,042,342</td>\n",
       "      <td>58</td>\n",
       "      <td>64</td>\n",
       "      <td>36.466</td>\n",
       "      <td>6.791</td>\n",
       "      <td>4.87</td>\n",
       "      <td>46.3</td>\n",
       "      <td>3</td>\n",
       "    </tr>\n",
       "    <tr>\n",
       "      <th>3</th>\n",
       "      <td>Afghanistan</td>\n",
       "      <td>2020</td>\n",
       "      <td>38,972,230</td>\n",
       "      <td>10,142,913</td>\n",
       "      <td>28,829,317</td>\n",
       "      <td>60</td>\n",
       "      <td>63</td>\n",
       "      <td>36.051</td>\n",
       "      <td>7.113</td>\n",
       "      <td>4.75</td>\n",
       "      <td>44.8</td>\n",
       "      <td>3</td>\n",
       "    </tr>\n",
       "    <tr>\n",
       "      <th>4</th>\n",
       "      <td>Afghanistan</td>\n",
       "      <td>2021</td>\n",
       "      <td>40,099,462</td>\n",
       "      <td>10,551,772</td>\n",
       "      <td>29,547,690</td>\n",
       "      <td>-</td>\n",
       "      <td>62</td>\n",
       "      <td>35.842</td>\n",
       "      <td>7.344</td>\n",
       "      <td>4.643</td>\n",
       "      <td>43.4</td>\n",
       "      <td>3</td>\n",
       "    </tr>\n",
       "  </tbody>\n",
       "</table>\n",
       "</div>"
      ]
     },
     "execution_count": 95,
     "metadata": {},
     "output_type": "execute_result"
    }
   ],
   "execution_count": 95
  },
  {
   "metadata": {
    "ExecuteTime": {
     "end_time": "2024-09-25T17:47:09.335179Z",
     "start_time": "2024-09-25T17:47:09.330295Z"
    }
   },
   "cell_type": "code",
   "source": [
    "#2.3. Определите размерность данного фрейма (shape())\n",
    "df.shape"
   ],
   "id": "772cc4ff7388ebf7",
   "outputs": [
    {
     "data": {
      "text/plain": [
       "(1073, 12)"
      ]
     },
     "execution_count": 98,
     "metadata": {},
     "output_type": "execute_result"
    }
   ],
   "execution_count": 98
  },
  {
   "metadata": {
    "ExecuteTime": {
     "end_time": "2024-09-25T17:47:35.580828Z",
     "start_time": "2024-09-25T17:47:35.576070Z"
    }
   },
   "cell_type": "code",
   "source": [
    "#Выведите название заголовков столбцов фрейма (columns)\n",
    "df.columns"
   ],
   "id": "977f4d24cd3c1cc4",
   "outputs": [
    {
     "data": {
      "text/plain": [
       "Index(['Country', 'Year', 'Total Population', 'Urban Population',\n",
       "       'Rural Population', 'Population Density', 'Life Expectancy',\n",
       "       'Birth Rate', 'Death Rate', 'Fertility Rate', 'Infant Mortality Rate',\n",
       "       'Growth Rate'],\n",
       "      dtype='object')"
      ]
     },
     "execution_count": 100,
     "metadata": {},
     "output_type": "execute_result"
    }
   ],
   "execution_count": 100
  },
  {
   "metadata": {
    "ExecuteTime": {
     "end_time": "2024-09-25T17:48:01.419141Z",
     "start_time": "2024-09-25T17:48:01.410971Z"
    }
   },
   "cell_type": "code",
   "source": [
    "#2.5.\tПолучите описание всех переменных (полей) (info())\n",
    "df.info"
   ],
   "id": "929d44fd60b5d7d7",
   "outputs": [
    {
     "data": {
      "text/plain": [
       "<bound method DataFrame.info of           Country  Year Total Population Urban Population Rural Population  \\\n",
       "0     Afghanistan  2017                -                -                -   \n",
       "1     Afghanistan  2018       36,686,784        9,353,296       27,333,488   \n",
       "2     Afghanistan  2019       37,769,499        9,727,157       28,042,342   \n",
       "3     Afghanistan  2020       38,972,230       10,142,913       28,829,317   \n",
       "4     Afghanistan  2021       40,099,462       10,551,772       29,547,690   \n",
       "...           ...   ...              ...              ...              ...   \n",
       "1068     Zimbabwe  2017                -                -                -   \n",
       "1069     Zimbabwe  2018       15,052,184        4,848,158       10,204,026   \n",
       "1070     Zimbabwe  2019       15,354,608        4,945,719       10,408,889   \n",
       "1071     Zimbabwe  2020       15,669,666        5,052,214       10,617,452   \n",
       "1072     Zimbabwe  2021       15,993,524        5,166,388       10,827,136   \n",
       "\n",
       "     Population Density Life Expectancy  Birth Rate  Death Rate  \\\n",
       "0                    55              63      37.342       7.027   \n",
       "1                    56              63      36.927       6.981   \n",
       "2                    58              64      36.466       6.791   \n",
       "3                    60              63      36.051       7.113   \n",
       "4                     -              62      35.842       7.344   \n",
       "...                 ...             ...         ...         ...   \n",
       "1068                 38              61      32.516       8.266   \n",
       "1069                 39              61      32.074       7.972   \n",
       "1070                 40              61      31.518       8.043   \n",
       "1071                 41              61      31.009       8.132   \n",
       "1072                  -              59      30.537       9.057   \n",
       "\n",
       "     Fertility Rate Infant Mortality Rate Growth Rate  \n",
       "0             5.129                  49.4           -  \n",
       "1             5.002                  47.8           3  \n",
       "2              4.87                  46.3           3  \n",
       "3              4.75                  44.8           3  \n",
       "4             4.643                  43.4           3  \n",
       "...             ...                   ...         ...  \n",
       "1068          3.706                  39.5           -  \n",
       "1069          3.659                    38           2  \n",
       "1070          3.599                  37.1           2  \n",
       "1071          3.545                  36.6           2  \n",
       "1072          3.491                  35.7           2  \n",
       "\n",
       "[1073 rows x 12 columns]>"
      ]
     },
     "execution_count": 101,
     "metadata": {},
     "output_type": "execute_result"
    }
   ],
   "execution_count": 101
  },
  {
   "metadata": {
    "ExecuteTime": {
     "end_time": "2024-09-25T17:49:03.313254Z",
     "start_time": "2024-09-25T17:49:03.298437Z"
    }
   },
   "cell_type": "code",
   "source": [
    "#2.6.\t Удалите строки, не содержащие значения в столбце «Total Population» - “-” \n",
    "df1=df[df['Total Population']!='-']\n",
    "df1"
   ],
   "id": "79c000988fb206f1",
   "outputs": [
    {
     "data": {
      "text/plain": [
       "          Country  Year Total Population Urban Population Rural Population  \\\n",
       "1     Afghanistan  2018       36,686,784        9,353,296       27,333,488   \n",
       "2     Afghanistan  2019       37,769,499        9,727,157       28,042,342   \n",
       "3     Afghanistan  2020       38,972,230       10,142,913       28,829,317   \n",
       "4     Afghanistan  2021       40,099,462       10,551,772       29,547,690   \n",
       "6         Albania  2018        2,866,376        1,728,969        1,137,407   \n",
       "...           ...   ...              ...              ...              ...   \n",
       "1067       Zambia  2021       19,473,125        8,800,295       10,672,830   \n",
       "1069     Zimbabwe  2018       15,052,184        4,848,158       10,204,026   \n",
       "1070     Zimbabwe  2019       15,354,608        4,945,719       10,408,889   \n",
       "1071     Zimbabwe  2020       15,669,666        5,052,214       10,617,452   \n",
       "1072     Zimbabwe  2021       15,993,524        5,166,388       10,827,136   \n",
       "\n",
       "     Population Density Life Expectancy  Birth Rate  Death Rate  \\\n",
       "1                    56              63      36.927       6.981   \n",
       "2                    58              64      36.466       6.791   \n",
       "3                    60              63      36.051       7.113   \n",
       "4                     -              62      35.842       7.344   \n",
       "6                   105              79      10.517       8.308   \n",
       "...                 ...             ...         ...         ...   \n",
       "1067                  -              61      34.511       6.973   \n",
       "1069                 39              61      32.074       7.972   \n",
       "1070                 40              61      31.518       8.043   \n",
       "1071                 41              61      31.009       8.132   \n",
       "1072                  -              59      30.537       9.057   \n",
       "\n",
       "     Fertility Rate Infant Mortality Rate Growth Rate  \n",
       "1             5.002                  47.8           3  \n",
       "2              4.87                  46.3           3  \n",
       "3              4.75                  44.8           3  \n",
       "4             4.643                  43.4           3  \n",
       "6              1.44                   8.3           0  \n",
       "...             ...                   ...         ...  \n",
       "1067          4.308                  40.2           3  \n",
       "1069          3.659                    38           2  \n",
       "1070          3.599                  37.1           2  \n",
       "1071          3.545                  36.6           2  \n",
       "1072          3.491                  35.7           2  \n",
       "\n",
       "[864 rows x 12 columns]"
      ],
      "text/html": [
       "<div>\n",
       "<style scoped>\n",
       "    .dataframe tbody tr th:only-of-type {\n",
       "        vertical-align: middle;\n",
       "    }\n",
       "\n",
       "    .dataframe tbody tr th {\n",
       "        vertical-align: top;\n",
       "    }\n",
       "\n",
       "    .dataframe thead th {\n",
       "        text-align: right;\n",
       "    }\n",
       "</style>\n",
       "<table border=\"1\" class=\"dataframe\">\n",
       "  <thead>\n",
       "    <tr style=\"text-align: right;\">\n",
       "      <th></th>\n",
       "      <th>Country</th>\n",
       "      <th>Year</th>\n",
       "      <th>Total Population</th>\n",
       "      <th>Urban Population</th>\n",
       "      <th>Rural Population</th>\n",
       "      <th>Population Density</th>\n",
       "      <th>Life Expectancy</th>\n",
       "      <th>Birth Rate</th>\n",
       "      <th>Death Rate</th>\n",
       "      <th>Fertility Rate</th>\n",
       "      <th>Infant Mortality Rate</th>\n",
       "      <th>Growth Rate</th>\n",
       "    </tr>\n",
       "  </thead>\n",
       "  <tbody>\n",
       "    <tr>\n",
       "      <th>1</th>\n",
       "      <td>Afghanistan</td>\n",
       "      <td>2018</td>\n",
       "      <td>36,686,784</td>\n",
       "      <td>9,353,296</td>\n",
       "      <td>27,333,488</td>\n",
       "      <td>56</td>\n",
       "      <td>63</td>\n",
       "      <td>36.927</td>\n",
       "      <td>6.981</td>\n",
       "      <td>5.002</td>\n",
       "      <td>47.8</td>\n",
       "      <td>3</td>\n",
       "    </tr>\n",
       "    <tr>\n",
       "      <th>2</th>\n",
       "      <td>Afghanistan</td>\n",
       "      <td>2019</td>\n",
       "      <td>37,769,499</td>\n",
       "      <td>9,727,157</td>\n",
       "      <td>28,042,342</td>\n",
       "      <td>58</td>\n",
       "      <td>64</td>\n",
       "      <td>36.466</td>\n",
       "      <td>6.791</td>\n",
       "      <td>4.87</td>\n",
       "      <td>46.3</td>\n",
       "      <td>3</td>\n",
       "    </tr>\n",
       "    <tr>\n",
       "      <th>3</th>\n",
       "      <td>Afghanistan</td>\n",
       "      <td>2020</td>\n",
       "      <td>38,972,230</td>\n",
       "      <td>10,142,913</td>\n",
       "      <td>28,829,317</td>\n",
       "      <td>60</td>\n",
       "      <td>63</td>\n",
       "      <td>36.051</td>\n",
       "      <td>7.113</td>\n",
       "      <td>4.75</td>\n",
       "      <td>44.8</td>\n",
       "      <td>3</td>\n",
       "    </tr>\n",
       "    <tr>\n",
       "      <th>4</th>\n",
       "      <td>Afghanistan</td>\n",
       "      <td>2021</td>\n",
       "      <td>40,099,462</td>\n",
       "      <td>10,551,772</td>\n",
       "      <td>29,547,690</td>\n",
       "      <td>-</td>\n",
       "      <td>62</td>\n",
       "      <td>35.842</td>\n",
       "      <td>7.344</td>\n",
       "      <td>4.643</td>\n",
       "      <td>43.4</td>\n",
       "      <td>3</td>\n",
       "    </tr>\n",
       "    <tr>\n",
       "      <th>6</th>\n",
       "      <td>Albania</td>\n",
       "      <td>2018</td>\n",
       "      <td>2,866,376</td>\n",
       "      <td>1,728,969</td>\n",
       "      <td>1,137,407</td>\n",
       "      <td>105</td>\n",
       "      <td>79</td>\n",
       "      <td>10.517</td>\n",
       "      <td>8.308</td>\n",
       "      <td>1.44</td>\n",
       "      <td>8.3</td>\n",
       "      <td>0</td>\n",
       "    </tr>\n",
       "    <tr>\n",
       "      <th>...</th>\n",
       "      <td>...</td>\n",
       "      <td>...</td>\n",
       "      <td>...</td>\n",
       "      <td>...</td>\n",
       "      <td>...</td>\n",
       "      <td>...</td>\n",
       "      <td>...</td>\n",
       "      <td>...</td>\n",
       "      <td>...</td>\n",
       "      <td>...</td>\n",
       "      <td>...</td>\n",
       "      <td>...</td>\n",
       "    </tr>\n",
       "    <tr>\n",
       "      <th>1067</th>\n",
       "      <td>Zambia</td>\n",
       "      <td>2021</td>\n",
       "      <td>19,473,125</td>\n",
       "      <td>8,800,295</td>\n",
       "      <td>10,672,830</td>\n",
       "      <td>-</td>\n",
       "      <td>61</td>\n",
       "      <td>34.511</td>\n",
       "      <td>6.973</td>\n",
       "      <td>4.308</td>\n",
       "      <td>40.2</td>\n",
       "      <td>3</td>\n",
       "    </tr>\n",
       "    <tr>\n",
       "      <th>1069</th>\n",
       "      <td>Zimbabwe</td>\n",
       "      <td>2018</td>\n",
       "      <td>15,052,184</td>\n",
       "      <td>4,848,158</td>\n",
       "      <td>10,204,026</td>\n",
       "      <td>39</td>\n",
       "      <td>61</td>\n",
       "      <td>32.074</td>\n",
       "      <td>7.972</td>\n",
       "      <td>3.659</td>\n",
       "      <td>38</td>\n",
       "      <td>2</td>\n",
       "    </tr>\n",
       "    <tr>\n",
       "      <th>1070</th>\n",
       "      <td>Zimbabwe</td>\n",
       "      <td>2019</td>\n",
       "      <td>15,354,608</td>\n",
       "      <td>4,945,719</td>\n",
       "      <td>10,408,889</td>\n",
       "      <td>40</td>\n",
       "      <td>61</td>\n",
       "      <td>31.518</td>\n",
       "      <td>8.043</td>\n",
       "      <td>3.599</td>\n",
       "      <td>37.1</td>\n",
       "      <td>2</td>\n",
       "    </tr>\n",
       "    <tr>\n",
       "      <th>1071</th>\n",
       "      <td>Zimbabwe</td>\n",
       "      <td>2020</td>\n",
       "      <td>15,669,666</td>\n",
       "      <td>5,052,214</td>\n",
       "      <td>10,617,452</td>\n",
       "      <td>41</td>\n",
       "      <td>61</td>\n",
       "      <td>31.009</td>\n",
       "      <td>8.132</td>\n",
       "      <td>3.545</td>\n",
       "      <td>36.6</td>\n",
       "      <td>2</td>\n",
       "    </tr>\n",
       "    <tr>\n",
       "      <th>1072</th>\n",
       "      <td>Zimbabwe</td>\n",
       "      <td>2021</td>\n",
       "      <td>15,993,524</td>\n",
       "      <td>5,166,388</td>\n",
       "      <td>10,827,136</td>\n",
       "      <td>-</td>\n",
       "      <td>59</td>\n",
       "      <td>30.537</td>\n",
       "      <td>9.057</td>\n",
       "      <td>3.491</td>\n",
       "      <td>35.7</td>\n",
       "      <td>2</td>\n",
       "    </tr>\n",
       "  </tbody>\n",
       "</table>\n",
       "<p>864 rows × 12 columns</p>\n",
       "</div>"
      ]
     },
     "execution_count": 103,
     "metadata": {},
     "output_type": "execute_result"
    }
   ],
   "execution_count": 103
  },
  {
   "metadata": {
    "ExecuteTime": {
     "end_time": "2024-09-25T17:53:08.088160Z",
     "start_time": "2024-09-25T17:53:08.075613Z"
    }
   },
   "cell_type": "code",
   "source": [
    "#2.7.\tПолучите описательную статистику по переменным (например, max(), min(), describe())\n",
    "print(df1.describe())\n",
    "print(df1['Total Population'].max())\n",
    "print(df1['Total Population'].min())"
   ],
   "id": "dff0265e22924838",
   "outputs": [
    {
     "name": "stdout",
     "output_type": "stream",
     "text": [
      "              Year  Birth Rate  Death Rate\n",
      "count   864.000000  864.000000  864.000000\n",
      "mean   2019.500000   18.548384    7.889123\n",
      "std       1.118682    9.887518    3.041385\n",
      "min    2018.000000    0.000000    0.000000\n",
      "25%    2018.750000   10.500000    6.116500\n",
      "50%    2019.500000   15.628500    7.453500\n",
      "75%    2020.250000   25.565000    9.385000\n",
      "max    2021.000000   46.127000   21.700000\n",
      "99,258\n",
      "1,057,198\n"
     ]
    }
   ],
   "execution_count": 106
  },
  {
   "metadata": {
    "ExecuteTime": {
     "end_time": "2024-09-25T18:01:13.633080Z",
     "start_time": "2024-09-25T18:01:13.618346Z"
    }
   },
   "cell_type": "code",
   "source": [
    "#2.8.\tВыполните сортировку данных по нескольким критериям\n",
    "df1_sorted = df1.sort_values(by=['Urban Population', 'Country'], ascending=[False, True])\n",
    "df1_sorted\n"
   ],
   "id": "e530a8d4f7d0ef3d",
   "outputs": [
    {
     "data": {
      "text/plain": [
       "                      Country  Year Total Population Urban Population  \\\n",
       "696                   Nigeria  2018      198,387,623       99,876,265   \n",
       "612                    Mexico  2018      124,013,861       99,404,550   \n",
       "300                   Estonia  2021        1,330,932          923,866   \n",
       "299                   Estonia  2020        1,329,522          920,415   \n",
       "400             Guinea-Bissau  2021        2,060,721          919,432   \n",
       "..                        ...   ...              ...              ...   \n",
       "505                    Kosovo  2021        1,786,038                -   \n",
       "904  St. Martin (French Part)  2018           33,852                -   \n",
       "905  St. Martin (French Part)  2019           33,121                -   \n",
       "906  St. Martin (French Part)  2020           32,553                -   \n",
       "907  St. Martin (French Part)  2021           31,948                -   \n",
       "\n",
       "    Rural Population Population Density Life Expectancy  Birth Rate  \\\n",
       "696       98,511,358                218              53      38.248   \n",
       "612       24,609,311                 64              74      16.465   \n",
       "300          407,066                  -              77      10.000   \n",
       "299          409,107                 31              79       9.900   \n",
       "400        1,141,289                  -              60      31.087   \n",
       "..               ...                ...             ...         ...   \n",
       "505                -                  -              77      11.143   \n",
       "904                -                677              81      17.022   \n",
       "905                -                662              80      16.483   \n",
       "906                -                651              80      15.768   \n",
       "907                -                  -              80      15.053   \n",
       "\n",
       "     Death Rate Fertility Rate Infant Mortality Rate Growth Rate  \n",
       "696      13.239          5.447                  75.5           2  \n",
       "612       6.856          1.996                  12.6           1  \n",
       "300      14.000           1.61                   1.6           0  \n",
       "299      11.900           1.58                   1.7           0  \n",
       "400       8.716          4.005                    50           2  \n",
       "..          ...            ...                   ...         ...  \n",
       "505       7.220          1.522                   9.1           0  \n",
       "904       4.176          2.517                     -          -2  \n",
       "905       4.661          2.485                     -          -2  \n",
       "906       4.788          2.448                     -          -2  \n",
       "907       4.911          2.415                     -          -2  \n",
       "\n",
       "[864 rows x 12 columns]"
      ],
      "text/html": [
       "<div>\n",
       "<style scoped>\n",
       "    .dataframe tbody tr th:only-of-type {\n",
       "        vertical-align: middle;\n",
       "    }\n",
       "\n",
       "    .dataframe tbody tr th {\n",
       "        vertical-align: top;\n",
       "    }\n",
       "\n",
       "    .dataframe thead th {\n",
       "        text-align: right;\n",
       "    }\n",
       "</style>\n",
       "<table border=\"1\" class=\"dataframe\">\n",
       "  <thead>\n",
       "    <tr style=\"text-align: right;\">\n",
       "      <th></th>\n",
       "      <th>Country</th>\n",
       "      <th>Year</th>\n",
       "      <th>Total Population</th>\n",
       "      <th>Urban Population</th>\n",
       "      <th>Rural Population</th>\n",
       "      <th>Population Density</th>\n",
       "      <th>Life Expectancy</th>\n",
       "      <th>Birth Rate</th>\n",
       "      <th>Death Rate</th>\n",
       "      <th>Fertility Rate</th>\n",
       "      <th>Infant Mortality Rate</th>\n",
       "      <th>Growth Rate</th>\n",
       "    </tr>\n",
       "  </thead>\n",
       "  <tbody>\n",
       "    <tr>\n",
       "      <th>696</th>\n",
       "      <td>Nigeria</td>\n",
       "      <td>2018</td>\n",
       "      <td>198,387,623</td>\n",
       "      <td>99,876,265</td>\n",
       "      <td>98,511,358</td>\n",
       "      <td>218</td>\n",
       "      <td>53</td>\n",
       "      <td>38.248</td>\n",
       "      <td>13.239</td>\n",
       "      <td>5.447</td>\n",
       "      <td>75.5</td>\n",
       "      <td>2</td>\n",
       "    </tr>\n",
       "    <tr>\n",
       "      <th>612</th>\n",
       "      <td>Mexico</td>\n",
       "      <td>2018</td>\n",
       "      <td>124,013,861</td>\n",
       "      <td>99,404,550</td>\n",
       "      <td>24,609,311</td>\n",
       "      <td>64</td>\n",
       "      <td>74</td>\n",
       "      <td>16.465</td>\n",
       "      <td>6.856</td>\n",
       "      <td>1.996</td>\n",
       "      <td>12.6</td>\n",
       "      <td>1</td>\n",
       "    </tr>\n",
       "    <tr>\n",
       "      <th>300</th>\n",
       "      <td>Estonia</td>\n",
       "      <td>2021</td>\n",
       "      <td>1,330,932</td>\n",
       "      <td>923,866</td>\n",
       "      <td>407,066</td>\n",
       "      <td>-</td>\n",
       "      <td>77</td>\n",
       "      <td>10.000</td>\n",
       "      <td>14.000</td>\n",
       "      <td>1.61</td>\n",
       "      <td>1.6</td>\n",
       "      <td>0</td>\n",
       "    </tr>\n",
       "    <tr>\n",
       "      <th>299</th>\n",
       "      <td>Estonia</td>\n",
       "      <td>2020</td>\n",
       "      <td>1,329,522</td>\n",
       "      <td>920,415</td>\n",
       "      <td>409,107</td>\n",
       "      <td>31</td>\n",
       "      <td>79</td>\n",
       "      <td>9.900</td>\n",
       "      <td>11.900</td>\n",
       "      <td>1.58</td>\n",
       "      <td>1.7</td>\n",
       "      <td>0</td>\n",
       "    </tr>\n",
       "    <tr>\n",
       "      <th>400</th>\n",
       "      <td>Guinea-Bissau</td>\n",
       "      <td>2021</td>\n",
       "      <td>2,060,721</td>\n",
       "      <td>919,432</td>\n",
       "      <td>1,141,289</td>\n",
       "      <td>-</td>\n",
       "      <td>60</td>\n",
       "      <td>31.087</td>\n",
       "      <td>8.716</td>\n",
       "      <td>4.005</td>\n",
       "      <td>50</td>\n",
       "      <td>2</td>\n",
       "    </tr>\n",
       "    <tr>\n",
       "      <th>...</th>\n",
       "      <td>...</td>\n",
       "      <td>...</td>\n",
       "      <td>...</td>\n",
       "      <td>...</td>\n",
       "      <td>...</td>\n",
       "      <td>...</td>\n",
       "      <td>...</td>\n",
       "      <td>...</td>\n",
       "      <td>...</td>\n",
       "      <td>...</td>\n",
       "      <td>...</td>\n",
       "      <td>...</td>\n",
       "    </tr>\n",
       "    <tr>\n",
       "      <th>505</th>\n",
       "      <td>Kosovo</td>\n",
       "      <td>2021</td>\n",
       "      <td>1,786,038</td>\n",
       "      <td>-</td>\n",
       "      <td>-</td>\n",
       "      <td>-</td>\n",
       "      <td>77</td>\n",
       "      <td>11.143</td>\n",
       "      <td>7.220</td>\n",
       "      <td>1.522</td>\n",
       "      <td>9.1</td>\n",
       "      <td>0</td>\n",
       "    </tr>\n",
       "    <tr>\n",
       "      <th>904</th>\n",
       "      <td>St. Martin (French Part)</td>\n",
       "      <td>2018</td>\n",
       "      <td>33,852</td>\n",
       "      <td>-</td>\n",
       "      <td>-</td>\n",
       "      <td>677</td>\n",
       "      <td>81</td>\n",
       "      <td>17.022</td>\n",
       "      <td>4.176</td>\n",
       "      <td>2.517</td>\n",
       "      <td>-</td>\n",
       "      <td>-2</td>\n",
       "    </tr>\n",
       "    <tr>\n",
       "      <th>905</th>\n",
       "      <td>St. Martin (French Part)</td>\n",
       "      <td>2019</td>\n",
       "      <td>33,121</td>\n",
       "      <td>-</td>\n",
       "      <td>-</td>\n",
       "      <td>662</td>\n",
       "      <td>80</td>\n",
       "      <td>16.483</td>\n",
       "      <td>4.661</td>\n",
       "      <td>2.485</td>\n",
       "      <td>-</td>\n",
       "      <td>-2</td>\n",
       "    </tr>\n",
       "    <tr>\n",
       "      <th>906</th>\n",
       "      <td>St. Martin (French Part)</td>\n",
       "      <td>2020</td>\n",
       "      <td>32,553</td>\n",
       "      <td>-</td>\n",
       "      <td>-</td>\n",
       "      <td>651</td>\n",
       "      <td>80</td>\n",
       "      <td>15.768</td>\n",
       "      <td>4.788</td>\n",
       "      <td>2.448</td>\n",
       "      <td>-</td>\n",
       "      <td>-2</td>\n",
       "    </tr>\n",
       "    <tr>\n",
       "      <th>907</th>\n",
       "      <td>St. Martin (French Part)</td>\n",
       "      <td>2021</td>\n",
       "      <td>31,948</td>\n",
       "      <td>-</td>\n",
       "      <td>-</td>\n",
       "      <td>-</td>\n",
       "      <td>80</td>\n",
       "      <td>15.053</td>\n",
       "      <td>4.911</td>\n",
       "      <td>2.415</td>\n",
       "      <td>-</td>\n",
       "      <td>-2</td>\n",
       "    </tr>\n",
       "  </tbody>\n",
       "</table>\n",
       "<p>864 rows × 12 columns</p>\n",
       "</div>"
      ]
     },
     "execution_count": 114,
     "metadata": {},
     "output_type": "execute_result"
    }
   ],
   "execution_count": 114
  },
  {
   "metadata": {
    "ExecuteTime": {
     "end_time": "2024-09-25T17:55:38.033843Z",
     "start_time": "2024-09-25T17:55:38.028783Z"
    }
   },
   "cell_type": "code",
   "source": [
    "#2.9. Выведите название страны, которая имеет максимальную численность населения\n",
    "country_max_population = df1.loc[df1['Total Population'].idxmax(), 'Country']\n",
    "print(country_max_population)"
   ],
   "id": "9894aeda5e3d7b93",
   "outputs": [
    {
     "name": "stdout",
     "output_type": "stream",
     "text": [
      "Seychelles\n"
     ]
    }
   ],
   "execution_count": 110
  },
  {
   "metadata": {
    "ExecuteTime": {
     "end_time": "2024-09-25T18:02:55.571167Z",
     "start_time": "2024-09-25T18:02:55.566938Z"
    }
   },
   "cell_type": "code",
   "source": [
    "#2.10. Выведите название страны с минимальной численностью населения\n",
    "country_min_population = df1.loc[df1['Total Population'].idxmin(), 'Country']\n",
    "print(country_min_population)"
   ],
   "id": "5e3cc9ea3830f7ae",
   "outputs": [
    {
     "name": "stdout",
     "output_type": "stream",
     "text": [
      "Djibouti\n"
     ]
    }
   ],
   "execution_count": 115
  },
  {
   "metadata": {
    "ExecuteTime": {
     "end_time": "2024-09-25T18:04:39.326309Z",
     "start_time": "2024-09-25T18:04:39.302744Z"
    }
   },
   "cell_type": "code",
   "source": [
    "# convert to excel\n",
    "df.to_csv('Global Population Trends(2016-2022).csv')"
   ],
   "id": "c28009c9e26d6f40",
   "outputs": [],
   "execution_count": 116
  }
 ],
 "metadata": {
  "kernelspec": {
   "display_name": "Python 3",
   "language": "python",
   "name": "python3"
  },
  "language_info": {
   "codemirror_mode": {
    "name": "ipython",
    "version": 2
   },
   "file_extension": ".py",
   "mimetype": "text/x-python",
   "name": "python",
   "nbconvert_exporter": "python",
   "pygments_lexer": "ipython2",
   "version": "2.7.6"
  }
 },
 "nbformat": 4,
 "nbformat_minor": 5
}
